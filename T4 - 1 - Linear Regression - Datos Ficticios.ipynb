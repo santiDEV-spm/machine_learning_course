{
 "cells": [
  {
   "cell_type": "markdown",
   "metadata": {},
   "source": [
    "# Modelos de Regresion Lineal\n",
    "\n",
    "### Modelo con datos simulados\n",
    "\n",
    "* el modelo y = α + β * X\n",
    "\n",
    "* x : 100 valores distribuidos segun una N(1.5, 2.5)\n",
    "\n",
    "* la estimacion ye = 5 + 1.9 * x + res\n",
    "* res estara distribuida segun una normal N(0,0.80)"
   ]
  },
  {
   "cell_type": "code",
   "execution_count": 1,
   "metadata": {},
   "outputs": [],
   "source": [
    "import pandas as pd\n",
    "import numpy as np"
   ]
  },
  {
   "cell_type": "code",
   "execution_count": 2,
   "metadata": {},
   "outputs": [],
   "source": [
    "X = 1.5 + 2.5 * np.random.randn(100)"
   ]
  },
  {
   "cell_type": "code",
   "execution_count": 3,
   "metadata": {},
   "outputs": [],
   "source": [
    "res = 0.80 * np.random.randn(100)"
   ]
  },
  {
   "cell_type": "code",
   "execution_count": 4,
   "metadata": {},
   "outputs": [],
   "source": [
    "y_pred = 5 + 0.6 * X"
   ]
  },
  {
   "cell_type": "code",
   "execution_count": 5,
   "metadata": {},
   "outputs": [],
   "source": [
    "y_act = 5 +0.8*X + res"
   ]
  },
  {
   "cell_type": "code",
   "execution_count": 6,
   "metadata": {},
   "outputs": [],
   "source": [
    "x_list = X.tolist()\n",
    "y_pred_list = y_pred.tolist()\n",
    "y_act_list = y_act.tolist()"
   ]
  },
  {
   "cell_type": "code",
   "execution_count": 7,
   "metadata": {},
   "outputs": [],
   "source": [
    "data = pd.DataFrame(\n",
    "    {\n",
    "        'X': x_list,\n",
    "        'y': y_act_list,\n",
    "        'y_prediccion': y_pred_list\n",
    "    }\n",
    ")"
   ]
  },
  {
   "cell_type": "code",
   "execution_count": 8,
   "metadata": {},
   "outputs": [
    {
     "data": {
      "text/html": [
       "<div>\n",
       "<style scoped>\n",
       "    .dataframe tbody tr th:only-of-type {\n",
       "        vertical-align: middle;\n",
       "    }\n",
       "\n",
       "    .dataframe tbody tr th {\n",
       "        vertical-align: top;\n",
       "    }\n",
       "\n",
       "    .dataframe thead th {\n",
       "        text-align: right;\n",
       "    }\n",
       "</style>\n",
       "<table border=\"1\" class=\"dataframe\">\n",
       "  <thead>\n",
       "    <tr style=\"text-align: right;\">\n",
       "      <th></th>\n",
       "      <th>X</th>\n",
       "      <th>y</th>\n",
       "      <th>y_prediccion</th>\n",
       "    </tr>\n",
       "  </thead>\n",
       "  <tbody>\n",
       "    <tr>\n",
       "      <th>0</th>\n",
       "      <td>0.427404</td>\n",
       "      <td>6.281062</td>\n",
       "      <td>5.256442</td>\n",
       "    </tr>\n",
       "    <tr>\n",
       "      <th>1</th>\n",
       "      <td>2.707131</td>\n",
       "      <td>6.455093</td>\n",
       "      <td>6.624279</td>\n",
       "    </tr>\n",
       "    <tr>\n",
       "      <th>2</th>\n",
       "      <td>-1.620444</td>\n",
       "      <td>3.543348</td>\n",
       "      <td>4.027734</td>\n",
       "    </tr>\n",
       "    <tr>\n",
       "      <th>3</th>\n",
       "      <td>2.405584</td>\n",
       "      <td>6.754546</td>\n",
       "      <td>6.443350</td>\n",
       "    </tr>\n",
       "    <tr>\n",
       "      <th>4</th>\n",
       "      <td>3.660484</td>\n",
       "      <td>8.537615</td>\n",
       "      <td>7.196290</td>\n",
       "    </tr>\n",
       "  </tbody>\n",
       "</table>\n",
       "</div>"
      ],
      "text/plain": [
       "          X         y  y_prediccion\n",
       "0  0.427404  6.281062      5.256442\n",
       "1  2.707131  6.455093      6.624279\n",
       "2 -1.620444  3.543348      4.027734\n",
       "3  2.405584  6.754546      6.443350\n",
       "4  3.660484  8.537615      7.196290"
      ]
     },
     "execution_count": 8,
     "metadata": {},
     "output_type": "execute_result"
    }
   ],
   "source": [
    "data.head()"
   ]
  },
  {
   "cell_type": "code",
   "execution_count": 9,
   "metadata": {},
   "outputs": [],
   "source": [
    "import matplotlib.pyplot as plt"
   ]
  },
  {
   "cell_type": "code",
   "execution_count": 10,
   "metadata": {},
   "outputs": [
    {
     "data": {
      "text/plain": [
       "100"
      ]
     },
     "execution_count": 10,
     "metadata": {},
     "output_type": "execute_result"
    }
   ],
   "source": [
    "y_mean = [np.mean(y_act) for i in range(0,len(x_list))]\n",
    "len(y_mean)"
   ]
  },
  {
   "cell_type": "code",
   "execution_count": 11,
   "metadata": {},
   "outputs": [
    {
     "data": {
      "text/plain": [
       "Text(0.5,1,'Valor Actual vs Prediccion')"
      ]
     },
     "execution_count": 11,
     "metadata": {},
     "output_type": "execute_result"
    },
    {
     "data": {
      "image/png": "[encoded data removed]",
      "text/plain": [
       "<Figure size 432x288 with 1 Axes>"
      ]
     },
     "metadata": {},
     "output_type": "display_data"
    }
   ],
   "source": [
    "%matplotlib inline\n",
    "\n",
    "plt.plot(X,y_pred)\n",
    "plt.plot(X,y_act, 'ro')\n",
    "plt.plot(X,y_mean, 'g')\n",
    "plt.title('Valor Actual vs Prediccion')"
   ]
  },
  {
   "cell_type": "markdown",
   "metadata": {},
   "source": [
    "## ¿Comoes la prediccion de buena?\n",
    "* SST = SSD + SSR\n",
    "* SST : variabilidad de los datos con respecto a su media\n",
    "* SSD : diferencia entre los datos originales y las predicciones que el modelo no es capaz de explicar(errores que deben seguir una distribucion normal)\n",
    "* SSR : diferencia enttre la regreesion y el valor medio que el modelo busca explicar\n",
    "* R^2 = SSR / SST , coeficiente de determinacion entre 0 y 1"
   ]
  },
  {
   "cell_type": "code",
   "execution_count": 12,
   "metadata": {},
   "outputs": [],
   "source": [
    "y_mean = np.mean(y_act) \n",
    "data['SSR'] = (data['y_prediccion'] - y_mean)**2\n",
    "data['SSD'] = (data['y_prediccion'] - data['y'])**2\n",
    "data['SST'] = (data['y'] - y_mean)**2"
   ]
  },
  {
   "cell_type": "code",
   "execution_count": 13,
   "metadata": {},
   "outputs": [
    {
     "data": {
      "text/html": [
       "<div>\n",
       "<style scoped>\n",
       "    .dataframe tbody tr th:only-of-type {\n",
       "        vertical-align: middle;\n",
       "    }\n",
       "\n",
       "    .dataframe tbody tr th {\n",
       "        vertical-align: top;\n",
       "    }\n",
       "\n",
       "    .dataframe thead th {\n",
       "        text-align: right;\n",
       "    }\n",
       "</style>\n",
       "<table border=\"1\" class=\"dataframe\">\n",
       "  <thead>\n",
       "    <tr style=\"text-align: right;\">\n",
       "      <th></th>\n",
       "      <th>X</th>\n",
       "      <th>y</th>\n",
       "      <th>y_prediccion</th>\n",
       "      <th>SSR</th>\n",
       "      <th>SSD</th>\n",
       "      <th>SST</th>\n",
       "    </tr>\n",
       "  </thead>\n",
       "  <tbody>\n",
       "    <tr>\n",
       "      <th>0</th>\n",
       "      <td>0.427404</td>\n",
       "      <td>6.281062</td>\n",
       "      <td>5.256442</td>\n",
       "      <td>1.052637</td>\n",
       "      <td>1.049845</td>\n",
       "      <td>0.000002</td>\n",
       "    </tr>\n",
       "    <tr>\n",
       "      <th>1</th>\n",
       "      <td>2.707131</td>\n",
       "      <td>6.455093</td>\n",
       "      <td>6.624279</td>\n",
       "      <td>0.116865</td>\n",
       "      <td>0.028624</td>\n",
       "      <td>0.029815</td>\n",
       "    </tr>\n",
       "    <tr>\n",
       "      <th>2</th>\n",
       "      <td>-1.620444</td>\n",
       "      <td>3.543348</td>\n",
       "      <td>4.027734</td>\n",
       "      <td>5.083626</td>\n",
       "      <td>0.234629</td>\n",
       "      <td>7.502532</td>\n",
       "    </tr>\n",
       "    <tr>\n",
       "      <th>3</th>\n",
       "      <td>2.405584</td>\n",
       "      <td>6.754546</td>\n",
       "      <td>6.443350</td>\n",
       "      <td>0.025897</td>\n",
       "      <td>0.096843</td>\n",
       "      <td>0.222899</td>\n",
       "    </tr>\n",
       "    <tr>\n",
       "      <th>4</th>\n",
       "      <td>3.660484</td>\n",
       "      <td>8.537615</td>\n",
       "      <td>7.196290</td>\n",
       "      <td>0.835153</td>\n",
       "      <td>1.799152</td>\n",
       "      <td>5.085888</td>\n",
       "    </tr>\n",
       "  </tbody>\n",
       "</table>\n",
       "</div>"
      ],
      "text/plain": [
       "          X         y  y_prediccion       SSR       SSD       SST\n",
       "0  0.427404  6.281062      5.256442  1.052637  1.049845  0.000002\n",
       "1  2.707131  6.455093      6.624279  0.116865  0.028624  0.029815\n",
       "2 -1.620444  3.543348      4.027734  5.083626  0.234629  7.502532\n",
       "3  2.405584  6.754546      6.443350  0.025897  0.096843  0.222899\n",
       "4  3.660484  8.537615      7.196290  0.835153  1.799152  5.085888"
      ]
     },
     "execution_count": 13,
     "metadata": {},
     "output_type": "execute_result"
    }
   ],
   "source": [
    "data.head()"
   ]
  },
  {
   "cell_type": "code",
   "execution_count": 14,
   "metadata": {},
   "outputs": [],
   "source": [
    "SSR = sum(data['SSR'])\n",
    "SSD = sum(data['SSD'])\n",
    "SST = sum(data['SST'])"
   ]
  },
  {
   "cell_type": "code",
   "execution_count": 15,
   "metadata": {},
   "outputs": [
    {
     "data": {
      "text/plain": [
       "226.47936664329646"
      ]
     },
     "execution_count": 15,
     "metadata": {},
     "output_type": "execute_result"
    }
   ],
   "source": [
    "SSR"
   ]
  },
  {
   "cell_type": "code",
   "execution_count": 16,
   "metadata": {},
   "outputs": [
    {
     "data": {
      "text/plain": [
       "115.51920830235386"
      ]
     },
     "execution_count": 16,
     "metadata": {},
     "output_type": "execute_result"
    }
   ],
   "source": [
    "SSD "
   ]
  },
  {
   "cell_type": "code",
   "execution_count": 17,
   "metadata": {},
   "outputs": [
    {
     "data": {
      "text/plain": [
       "474.84097057551037"
      ]
     },
     "execution_count": 17,
     "metadata": {},
     "output_type": "execute_result"
    }
   ],
   "source": [
    "SST"
   ]
  },
  {
   "cell_type": "code",
   "execution_count": 18,
   "metadata": {},
   "outputs": [
    {
     "data": {
      "text/plain": [
       "341.9985749456503"
      ]
     },
     "execution_count": 18,
     "metadata": {},
     "output_type": "execute_result"
    }
   ],
   "source": [
    "SSR + SSD"
   ]
  },
  {
   "cell_type": "markdown",
   "metadata": {},
   "source": [
    "## R^2\n",
    "* SI EL VALOR DE R^2 ES MUY CERCANO A 1 QUIERE DECIR Q LA PREDICCION DE **Y** ES MUY ACEPTADO"
   ]
  },
  {
   "cell_type": "code",
   "execution_count": 19,
   "metadata": {},
   "outputs": [],
   "source": [
    "\n",
    "R2 = SSR / SST"
   ]
  },
  {
   "cell_type": "code",
   "execution_count": 20,
   "metadata": {},
   "outputs": [
    {
     "data": {
      "text/plain": [
       "0.47695835169573086"
      ]
     },
     "execution_count": 20,
     "metadata": {},
     "output_type": "execute_result"
    }
   ],
   "source": [
    "R2"
   ]
  },
  {
   "cell_type": "code",
   "execution_count": 21,
   "metadata": {},
   "outputs": [
    {
     "data": {
      "text/plain": [
       "(array([10., 10., 22., 31., 18.,  3.,  5.,  0.,  0.,  1.]),\n",
       " array([-2.34347333, -1.72906938, -1.11466543, -0.50026147,  0.11414248,\n",
       "         0.72854643,  1.34295039,  1.95735434,  2.5717583 ,  3.18616225,\n",
       "         3.8005662 ]),\n",
       " <a list of 10 Patch objects>)"
      ]
     },
     "execution_count": 21,
     "metadata": {},
     "output_type": "execute_result"
    },
    {
     "data": {
      "image/png": "[encoded data removed]",
      "text/plain": [
       "<Figure size 432x288 with 1 Axes>"
      ]
     },
     "metadata": {},
     "output_type": "display_data"
    }
   ],
   "source": [
    "plt.hist(data['y_prediccion'] - data['y'])"
   ]
  },
  {
   "cell_type": "markdown",
   "metadata": {},
   "source": [
    "## obteniendo la recta de regression\n",
    "Encontrando los coeficientes optimos α, β\n",
    "* β = Σ(x_i - x_mean)(y_i - y_mean) / Σ(x_i - x_mean)^2 = covarianza(X,y)/varianza(X)\n",
    "\n",
    "* α = y_mean - β(x_mean)\n",
    "\n",
    "* ye = α + βx"
   ]
  },
  {
   "cell_type": "code",
   "execution_count": 22,
   "metadata": {},
   "outputs": [
    {
     "data": {
      "text/plain": [
       "(1.5108439351696274, 6.282423440287107)"
      ]
     },
     "execution_count": 22,
     "metadata": {},
     "output_type": "execute_result"
    }
   ],
   "source": [
    "x_mean = np.mean(data['X'])\n",
    "y_mean = np.mean(data['y'])\n",
    "x_mean, y_mean"
   ]
  },
  {
   "cell_type": "code",
   "execution_count": 23,
   "metadata": {},
   "outputs": [],
   "source": [
    "data['beta_numerador'] = (data['X'] - x_mean)*(data['y']- y_mean)\n",
    "data['beta_denominador'] = (data['X'] - x_mean)**2\n"
   ]
  },
  {
   "cell_type": "code",
   "execution_count": 24,
   "metadata": {},
   "outputs": [
    {
     "data": {
      "text/plain": [
       "0.8276053334618729"
      ]
     },
     "execution_count": 24,
     "metadata": {},
     "output_type": "execute_result"
    }
   ],
   "source": [
    "beta = sum(data['beta_numerador'])/sum(data['beta_denominador'])\n",
    "beta"
   ]
  },
  {
   "cell_type": "code",
   "execution_count": 25,
   "metadata": {},
   "outputs": [
    {
     "data": {
      "text/plain": [
       "(5.032040941512199, 0.8276053334618729)"
      ]
     },
     "execution_count": 25,
     "metadata": {},
     "output_type": "execute_result"
    }
   ],
   "source": [
    "alpha =  y_mean - (beta*x_mean)\n",
    "alpha, beta"
   ]
  },
  {
   "cell_type": "markdown",
   "metadata": {},
   "source": [
    "El modelo lineal obtenido con los coeficientes optimos"
   ]
  },
  {
   "cell_type": "code",
   "execution_count": 26,
   "metadata": {},
   "outputs": [
    {
     "data": {
      "text/html": [
       "<div>\n",
       "<style scoped>\n",
       "    .dataframe tbody tr th:only-of-type {\n",
       "        vertical-align: middle;\n",
       "    }\n",
       "\n",
       "    .dataframe tbody tr th {\n",
       "        vertical-align: top;\n",
       "    }\n",
       "\n",
       "    .dataframe thead th {\n",
       "        text-align: right;\n",
       "    }\n",
       "</style>\n",
       "<table border=\"1\" class=\"dataframe\">\n",
       "  <thead>\n",
       "    <tr style=\"text-align: right;\">\n",
       "      <th></th>\n",
       "      <th>X</th>\n",
       "      <th>y</th>\n",
       "      <th>y_prediccion</th>\n",
       "      <th>SSR</th>\n",
       "      <th>SSD</th>\n",
       "      <th>SST</th>\n",
       "      <th>beta_numerador</th>\n",
       "      <th>beta_denominador</th>\n",
       "      <th>y_model_coef_optimos</th>\n",
       "    </tr>\n",
       "  </thead>\n",
       "  <tbody>\n",
       "    <tr>\n",
       "      <th>0</th>\n",
       "      <td>0.427404</td>\n",
       "      <td>6.281062</td>\n",
       "      <td>5.256442</td>\n",
       "      <td>1.052637</td>\n",
       "      <td>1.049845</td>\n",
       "      <td>0.000002</td>\n",
       "      <td>0.001475</td>\n",
       "      <td>1.173842</td>\n",
       "      <td>5.385763</td>\n",
       "    </tr>\n",
       "    <tr>\n",
       "      <th>1</th>\n",
       "      <td>2.707131</td>\n",
       "      <td>6.455093</td>\n",
       "      <td>6.624279</td>\n",
       "      <td>0.116865</td>\n",
       "      <td>0.028624</td>\n",
       "      <td>0.029815</td>\n",
       "      <td>0.206563</td>\n",
       "      <td>1.431103</td>\n",
       "      <td>7.272477</td>\n",
       "    </tr>\n",
       "    <tr>\n",
       "      <th>2</th>\n",
       "      <td>-1.620444</td>\n",
       "      <td>3.543348</td>\n",
       "      <td>4.027734</td>\n",
       "      <td>5.083626</td>\n",
       "      <td>0.234629</td>\n",
       "      <td>7.502532</td>\n",
       "      <td>8.576832</td>\n",
       "      <td>9.804964</td>\n",
       "      <td>3.690953</td>\n",
       "    </tr>\n",
       "    <tr>\n",
       "      <th>3</th>\n",
       "      <td>2.405584</td>\n",
       "      <td>6.754546</td>\n",
       "      <td>6.443350</td>\n",
       "      <td>0.025897</td>\n",
       "      <td>0.096843</td>\n",
       "      <td>0.222899</td>\n",
       "      <td>0.422427</td>\n",
       "      <td>0.800559</td>\n",
       "      <td>7.022915</td>\n",
       "    </tr>\n",
       "    <tr>\n",
       "      <th>4</th>\n",
       "      <td>3.660484</td>\n",
       "      <td>8.537615</td>\n",
       "      <td>7.196290</td>\n",
       "      <td>0.835153</td>\n",
       "      <td>1.799152</td>\n",
       "      <td>5.085888</td>\n",
       "      <td>4.847849</td>\n",
       "      <td>4.620951</td>\n",
       "      <td>8.061477</td>\n",
       "    </tr>\n",
       "  </tbody>\n",
       "</table>\n",
       "</div>"
      ],
      "text/plain": [
       "          X         y  y_prediccion       SSR       SSD       SST  \\\n",
       "0  0.427404  6.281062      5.256442  1.052637  1.049845  0.000002   \n",
       "1  2.707131  6.455093      6.624279  0.116865  0.028624  0.029815   \n",
       "2 -1.620444  3.543348      4.027734  5.083626  0.234629  7.502532   \n",
       "3  2.405584  6.754546      6.443350  0.025897  0.096843  0.222899   \n",
       "4  3.660484  8.537615      7.196290  0.835153  1.799152  5.085888   \n",
       "\n",
       "   beta_numerador  beta_denominador  y_model_coef_optimos  \n",
       "0        0.001475          1.173842              5.385763  \n",
       "1        0.206563          1.431103              7.272477  \n",
       "2        8.576832          9.804964              3.690953  \n",
       "3        0.422427          0.800559              7.022915  \n",
       "4        4.847849          4.620951              8.061477  "
      ]
     },
     "execution_count": 26,
     "metadata": {},
     "output_type": "execute_result"
    }
   ],
   "source": [
    "data['y_model_coef_optimos'] = alpha + beta * X\n",
    "data.head()"
   ]
  },
  {
   "cell_type": "code",
   "execution_count": 27,
   "metadata": {},
   "outputs": [],
   "source": [
    "SSR = sum((data['y_model_coef_optimos'] - y_mean)**2)\n",
    "SSD = sum((data['y_model_coef_optimos'] - data['y'])**2)\n",
    "SST = sum((data['y'] - y_mean)**2)"
   ]
  },
  {
   "cell_type": "code",
   "execution_count": 28,
   "metadata": {},
   "outputs": [
    {
     "data": {
      "text/plain": [
       "(404.0101155327023, 70.83085504280838, 474.84097057551037)"
      ]
     },
     "execution_count": 28,
     "metadata": {},
     "output_type": "execute_result"
    }
   ],
   "source": [
    "SSR, SSD, SST"
   ]
  },
  {
   "cell_type": "code",
   "execution_count": 29,
   "metadata": {},
   "outputs": [
    {
     "data": {
      "text/plain": [
       "0.8508324693276559"
      ]
     },
     "execution_count": 29,
     "metadata": {},
     "output_type": "execute_result"
    }
   ],
   "source": [
    "R2 = SSR / SST\n",
    "R2"
   ]
  },
  {
   "cell_type": "code",
   "execution_count": 30,
   "metadata": {},
   "outputs": [
    {
     "data": {
      "text/plain": [
       "Text(0.5,1,'Valor Actual vs Prediccion')"
      ]
     },
     "execution_count": 30,
     "metadata": {},
     "output_type": "execute_result"
    },
    {
     "data": {
      "image/png": "[encoded data removed]",
      "text/plain": [
       "<Figure size 432x288 with 1 Axes>"
      ]
     },
     "metadata": {},
     "output_type": "display_data"
    }
   ],
   "source": [
    "%matplotlib inline\n",
    "y_mean = [np.mean(y_act) for i in range(0,len(x_list))]\n",
    "plt.plot(X,y_pred)\n",
    "plt.plot(X,y_act, 'ro')\n",
    "plt.plot(X,y_mean, 'g')\n",
    "plt.plot(data['X'], data['y_model_coef_optimos'])\n",
    "plt.title('Valor Actual vs Prediccion')"
   ]
  },
  {
   "cell_type": "markdown",
   "metadata": {},
   "source": [
    "# Error estandar de los residuos(RSE)\n",
    "***RSE = sqrt(SSD/n-2)***"
   ]
  },
  {
   "cell_type": "code",
   "execution_count": 34,
   "metadata": {},
   "outputs": [
    {
     "data": {
      "text/plain": [
       "0.8501551781689226"
      ]
     },
     "execution_count": 34,
     "metadata": {},
     "output_type": "execute_result"
    }
   ],
   "source": [
    "RSE = np.sqrt(SSD/(len(data)-2))\n",
    "RSE"
   ]
  },
  {
   "cell_type": "code",
   "execution_count": 35,
   "metadata": {},
   "outputs": [
    {
     "data": {
      "text/plain": [
       "0.13532280755180529"
      ]
     },
     "execution_count": 35,
     "metadata": {},
     "output_type": "execute_result"
    }
   ],
   "source": [
    "RSE / np.mean(data['y'])"
   ]
  }
 ],
 "metadata": {
  "kernelspec": {
   "display_name": "Python 3",
   "language": "python",
   "name": "python3"
  },
  "language_info": {
   "codemirror_mode": {
    "name": "ipython",
    "version": 3
   },
   "file_extension": ".py",
   "mimetype": "text/x-python",
   "name": "python",
   "nbconvert_exporter": "python",
   "pygments_lexer": "ipython3",
   "version": "3.6.5"
  }
 },
 "nbformat": 4,
 "nbformat_minor": 2
}
