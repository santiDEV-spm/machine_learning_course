{
 "cells": [
  {
   "cell_type": "markdown",
   "metadata": {},
   "source": [
    "# El metodo K-means"
   ]
  },
  {
   "cell_type": "code",
   "execution_count": 1,
   "metadata": {},
   "outputs": [],
   "source": [
    "import numpy as np"
   ]
  },
  {
   "cell_type": "code",
   "execution_count": 2,
   "metadata": {},
   "outputs": [
    {
     "data": {
      "text/plain": [
       "array([[0.69992512, 0.96153301, 0.83116058],\n",
       "       [0.82507225, 0.12395954, 0.70908861],\n",
       "       [0.43617968, 0.18049898, 0.01925303],\n",
       "       [0.96308969, 0.95124452, 0.18909471],\n",
       "       [0.1185541 , 0.6405814 , 0.82217798],\n",
       "       [0.66011711, 0.6359043 , 0.79033954],\n",
       "       [0.02267243, 0.52332188, 0.16218789],\n",
       "       [0.21688192, 0.95770938, 0.59621036],\n",
       "       [0.55452057, 0.5765259 , 0.28574984],\n",
       "       [0.278855  , 0.86013533, 0.36288513],\n",
       "       [0.43304708, 0.96395714, 0.09776862],\n",
       "       [0.25734811, 0.29179306, 0.56004999],\n",
       "       [0.39982619, 0.04199847, 0.30664738],\n",
       "       [0.08970287, 0.15536211, 0.28143753],\n",
       "       [0.38029878, 0.31167918, 0.79546265],\n",
       "       [0.80133811, 0.66137397, 0.13999198],\n",
       "       [0.62262548, 0.56432522, 0.75114932],\n",
       "       [0.68909443, 0.66166498, 0.48783925],\n",
       "       [0.12165903, 0.72687266, 0.10097068],\n",
       "       [0.01019891, 0.16337085, 0.45226479],\n",
       "       [0.61986881, 0.53601504, 0.48865337],\n",
       "       [0.80736496, 0.09056258, 0.8504724 ],\n",
       "       [0.1339705 , 0.14428395, 0.35182547],\n",
       "       [0.71920618, 0.91283746, 0.27004746],\n",
       "       [0.04899199, 0.42709631, 0.66118951],\n",
       "       [0.68491369, 0.81750888, 0.48644792],\n",
       "       [0.53602686, 0.12611502, 0.40871243],\n",
       "       [0.67872359, 0.59620408, 0.1301674 ],\n",
       "       [0.92856675, 0.26310489, 0.17244386],\n",
       "       [0.58982668, 0.29853286, 0.27315021]])"
      ]
     },
     "execution_count": 2,
     "metadata": {},
     "output_type": "execute_result"
    }
   ],
   "source": [
    "data = np.random.random(90).reshape(30,3)\n",
    "data"
   ]
  },
  {
   "cell_type": "code",
   "execution_count": 4,
   "metadata": {},
   "outputs": [
    {
     "data": {
      "text/plain": [
       "array([[0.80736496, 0.09056258, 0.8504724 ],\n",
       "       [0.04899199, 0.42709631, 0.66118951]])"
      ]
     },
     "execution_count": 4,
     "metadata": {},
     "output_type": "execute_result"
    }
   ],
   "source": [
    "c1 = np.random.choice(range(len(data)))\n",
    "c2 = np.random.choice(range(len(data)))\n",
    "clust_centers = np.vstack([data[c1],data[c2]])\n",
    "clust_centers"
   ]
  },
  {
   "cell_type": "code",
   "execution_count": 5,
   "metadata": {},
   "outputs": [],
   "source": [
    "from scipy.cluster.vq import vq"
   ]
  },
  {
   "cell_type": "code",
   "execution_count": 6,
   "metadata": {},
   "outputs": [
    {
     "data": {
      "text/plain": [
       "(array([1, 0, 1, 0, 1, 0, 1, 1, 1, 1, 1, 1, 1, 1, 1, 0, 0, 0, 1, 1, 0, 0,\n",
       "        1, 1, 1, 1, 0, 1, 0, 0]),\n",
       " array([0.85920119, 0.14634986, 0.78918121, 1.0965601 , 0.27628257,\n",
       "        0.56806292, 0.50887591, 0.56032094, 0.64718103, 0.57388613,\n",
       "        0.86784847, 0.26823208, 0.63014689, 0.46873064, 0.37565221,\n",
       "        0.91139695, 0.51811658, 0.68676683, 0.63952443, 0.33868209,\n",
       "        0.6037348 , 0.        , 0.42768012, 0.91549093, 0.        ,\n",
       "        0.76638959, 0.51965394, 0.84091843, 0.71005875, 0.65105718]))"
      ]
     },
     "execution_count": 6,
     "metadata": {},
     "output_type": "execute_result"
    }
   ],
   "source": [
    "vq(data,clust_centers)"
   ]
  },
  {
   "cell_type": "code",
   "execution_count": 7,
   "metadata": {},
   "outputs": [],
   "source": [
    "from scipy.cluster.vq import kmeans"
   ]
  },
  {
   "cell_type": "code",
   "execution_count": 8,
   "metadata": {},
   "outputs": [
    {
     "data": {
      "text/plain": [
       "(array([[0.70483128, 0.6009534 , 0.43459782],\n",
       "        [0.21794045, 0.39648704, 0.42009106]]), 0.38192827138655994)"
      ]
     },
     "execution_count": 8,
     "metadata": {},
     "output_type": "execute_result"
    }
   ],
   "source": [
    "kmeans(data, clust_centers)"
   ]
  },
  {
   "cell_type": "code",
   "execution_count": 9,
   "metadata": {},
   "outputs": [
    {
     "data": {
      "text/plain": [
       "(array([[0.60452703, 0.7279323 , 0.3863075 ],\n",
       "        [0.33257388, 0.2513683 , 0.47527999]]), 0.3714802655044771)"
      ]
     },
     "execution_count": 9,
     "metadata": {},
     "output_type": "execute_result"
    }
   ],
   "source": [
    "kmeans(data,2)"
   ]
  },
  {
   "cell_type": "code",
   "execution_count": null,
   "metadata": {},
   "outputs": [],
   "source": []
  }
 ],
 "metadata": {
  "kernelspec": {
   "display_name": "Python 3",
   "language": "python",
   "name": "python3"
  },
  "language_info": {
   "codemirror_mode": {
    "name": "ipython",
    "version": 3
   },
   "file_extension": ".py",
   "mimetype": "text/x-python",
   "name": "python",
   "nbconvert_exporter": "python",
   "pygments_lexer": "ipython3",
   "version": "3.6.5"
  }
 },
 "nbformat": 4,
 "nbformat_minor": 2
}
